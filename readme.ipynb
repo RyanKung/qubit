{
 "cells": [
  {
   "cell_type": "code",
   "execution_count": null,
   "metadata": {
    "collapsed": true
   },
   "outputs": [],
   "source": []
  },
  {
   "cell_type": "markdown",
   "metadata": {},
   "source": [
    "# <center>Qubit, A FRP Based Open Soure time-series data anlanyze system</center>\n",
    "\n",
    "### <center>Ryan Kung</center>\n"
   ]
  },
  {
   "cell_type": "markdown",
   "metadata": {},
   "source": [
    "$$Spout:=f(t)= f(t_1), f(t_2), f(t_3)...f(t_{n-1}), f(t_n)$$\n",
    "$$State_{qubit}:=f(t)= S_{q1} (t_1) = MP(S_{q1}(t_0),\\ S_{q0}(t_1))$$\n",
    "$$States_{qubit}:=f(i) | i \\in range(n, m) = s(n), f(n+1), \\dots, f(m-1), f(m)$$\n",
    "\n"
   ]
  },
  {
   "cell_type": "markdown",
   "metadata": {},
   "source": []
  },
  {
   "cell_type": "code",
   "execution_count": null,
   "metadata": {
    "collapsed": true
   },
   "outputs": [],
   "source": []
  }
 ],
 "metadata": {
  "kernelspec": {
   "display_name": "Python 3",
   "language": "python",
   "name": "python3"
  },
  "language_info": {
   "codemirror_mode": {
    "name": "ipython",
    "version": 3
   },
   "file_extension": ".py",
   "mimetype": "text/x-python",
   "name": "python",
   "nbconvert_exporter": "python",
   "pygments_lexer": "ipython3",
   "version": "3.5.2"
  }
 },
 "nbformat": 4,
 "nbformat_minor": 0
}
